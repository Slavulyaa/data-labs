{
 "cells": [
  {
   "cell_type": "code",
   "execution_count": 1,
   "metadata": {},
   "outputs": [],
   "source": [
    "import requests\n",
    "from bs4 import BeautifulSoup\n",
    "import pandas as pd"
   ]
  },
  {
   "cell_type": "markdown",
   "metadata": {},
   "source": [
    "## First we need to login so the site thinks we're a normal user in a browser"
   ]
  },
  {
   "cell_type": "code",
   "execution_count": 2,
   "metadata": {},
   "outputs": [
    {
     "name": "stdout",
     "output_type": "stream",
     "text": [
      "0IkSRLdPY2DkeRIvsVrEO40NlbhP5LHaIAYpPawdRsM\n"
     ]
    },
    {
     "data": {
      "text/plain": [
       "200"
      ]
     },
     "execution_count": 2,
     "metadata": {},
     "output_type": "execute_result"
    }
   ],
   "source": [
    "login_url = 'https://www.agriconomie.com/login'\n",
    "login_check_url = 'https://www.agriconomie.com/login_check'\n",
    "\n",
    "client = requests.session()\n",
    "client.headers.update({'user-agent': \"Mozilla/5.0 (Macintosh; Intel Mac OS X 10_12_6) AppleWebKit/537.36 (KHTML, like Gecko) Chrome/77.0.3865.90 Safari/537.36\"})\n",
    "\n",
    "\n",
    "# Retrieve the CSRF token first\n",
    "soup = BeautifulSoup(client.get(login_url).content)\n",
    "csrftoken = soup.find('input', dict(name='_csrf_token'))['value']\n",
    "\n",
    "print(csrftoken)\n",
    "\n",
    "login_data = {'_username': 'slava_tyvonchuk@yahoo.com', '_password': 'test_agriconomie2019', \n",
    "              '_csrf_token': csrftoken}\n",
    "r = client.post(login_check_url, data=login_data, headers=dict(Referer=login_url))\n",
    "r.status_code"
   ]
  },
  {
   "cell_type": "code",
   "execution_count": 3,
   "metadata": {},
   "outputs": [
    {
     "name": "stdout",
     "output_type": "stream",
     "text": [
      "200\n"
     ]
    }
   ],
   "source": [
    "dashboard_url = 'https://www.agriconomie.com/account/buyer/dashboard'\n",
    "dashboard = client.get(dashboard_url)\n",
    "print(dashboard.status_code)\n",
    "dashboard_soup = BeautifulSoup(dashboard.content)"
   ]
  },
  {
   "cell_type": "markdown",
   "metadata": {},
   "source": [
    "### If we see \"Bonjour name\" here then everything worked (we are logged in)"
   ]
  },
  {
   "cell_type": "code",
   "execution_count": 4,
   "metadata": {},
   "outputs": [
    {
     "data": {
      "text/plain": [
       "'Bonjour slava'"
      ]
     },
     "execution_count": 4,
     "metadata": {},
     "output_type": "execute_result"
    }
   ],
   "source": [
    "dashboard_soup.find('h1', {'class': 'title-large alternate'}).text"
   ]
  },
  {
   "cell_type": "markdown",
   "metadata": {},
   "source": [
    "### Now we configure our post code (needed to see the price on this site)"
   ]
  },
  {
   "cell_type": "code",
   "execution_count": 5,
   "metadata": {},
   "outputs": [
    {
     "data": {
      "text/plain": [
       "200"
      ]
     },
     "execution_count": 5,
     "metadata": {},
     "output_type": "execute_result"
    }
   ],
   "source": [
    "post_code_data = {'town_email[town][_country]': 'FR', 'town_email[town][_postcode]': '27130', \n",
    "              'town_email[town][_select_town]': 9884, '_redirect': dashboard_url}\n",
    "r = client.post('https://www.agriconomie.com/code-postal', data=login_data, headers=dict(Referer=dashboard_url))\n",
    "r.status_code"
   ]
  },
  {
   "cell_type": "markdown",
   "metadata": {},
   "source": [
    "### Just to check that it worked"
   ]
  },
  {
   "cell_type": "code",
   "execution_count": 6,
   "metadata": {},
   "outputs": [
    {
     "data": {
      "text/plain": [
       "'\\nVotre code postal actuel est le : 60000 - Allonne\\n'"
      ]
     },
     "execution_count": 6,
     "metadata": {},
     "output_type": "execute_result"
    }
   ],
   "source": [
    "pc_soup = BeautifulSoup(r.content)\n",
    "pc_soup.find(lambda tag:tag.name==\"span\" and \"Votre code\" in tag.text).text"
   ]
  },
  {
   "cell_type": "code",
   "execution_count": 7,
   "metadata": {},
   "outputs": [
    {
     "data": {
      "text/plain": [
       "254930"
      ]
     },
     "execution_count": 7,
     "metadata": {},
     "output_type": "execute_result"
    }
   ],
   "source": [
    "from pathlib import Path\n",
    "Path('post_code.html').write_bytes(r.content)"
   ]
  },
  {
   "cell_type": "markdown",
   "metadata": {},
   "source": [
    "[Post code result](post_code.html)\n",
    "\n",
    "[click](http://google.com)\n"
   ]
  },
  {
   "cell_type": "markdown",
   "metadata": {},
   "source": [
    "### Now we write a function that can grab the product details for a given product URL\n",
    "\n",
    "We want the product name and the different offers. Each offer is a tuple (price, packaging, treatment)"
   ]
  },
  {
   "cell_type": "code",
   "execution_count": 33,
   "metadata": {
    "scrolled": false
   },
   "outputs": [
    {
     "data": {
      "text/plain": [
       "('Maïs grain DKC 5065 demi-tardif DEKALB',\n",
       " [('141€00HT/ Dose', 'Dose 50 MG', 'Traitement : Redigo+Force'),\n",
       "  ('122€00HT/ Dose', 'Dose 50 MG', 'Traitement : Redigo'),\n",
       "  ('131€00HT/ Dose', 'Dose 50 MG', 'Traitement : Redigo+Acceleron')])"
      ]
     },
     "execution_count": 33,
     "metadata": {},
     "output_type": "execute_result"
    }
   ],
   "source": [
    "#2nd step : information from one link and its treatment?\n",
    "\n",
    "url_detail = 'https://www.agriconomie.com/mais-grain-dkc5065-dekalb-410-460/p349971#_campaign=cat_listing_produit'\n",
    "\n",
    "def grab_detail(url_detail):\n",
    "    r_detail = client.get(url_detail)\n",
    "    assert r_detail.status_code == 200\n",
    "    detail_soup = BeautifulSoup(r_detail.content)\n",
    "    product_name = detail_soup.find('h1', {'class': 'product-title'}).text.strip()\n",
    "    offers_prices = [o.text for o in detail_soup.select('form.offer span.price span.price')]\n",
    "    offers_packaging_treatment = [o.text for o in detail_soup.select('form.offer div.col-packaging p.cart-desc')]\n",
    "    offers = []\n",
    "    for ix, offer_price in enumerate(offers_prices):\n",
    "        offer_packaging = offers_packaging_treatment[ix*2]\n",
    "        offer_treatment = offers_packaging_treatment[ix*2+1]\n",
    "        offer = (offer_price, offer_packaging, offer_treatment)\n",
    "        offers.append(offer)\n",
    "    return (product_name, offers)\n",
    "\n",
    "grab_detail(url_detail)\n"
   ]
  },
  {
   "cell_type": "code",
   "execution_count": 34,
   "metadata": {},
   "outputs": [],
   "source": [
    "#[o.text for o in detail_soup.select('form.offer span.price span.price')]\n",
    "#[o.text for o in detail_soup.select('form.offer div.col-packaging p.cart-desc')]"
   ]
  },
  {
   "cell_type": "markdown",
   "metadata": {},
   "source": [
    "## Now we get the list of all the products in the category we want \"Semence de mais\""
   ]
  },
  {
   "cell_type": "code",
   "execution_count": 11,
   "metadata": {},
   "outputs": [],
   "source": [
    "url_list = 'https://www.agriconomie.com/semences/semences-de-printemps/semences-de-mais/pc3409'\n",
    "r = requests.get(url_list)\n",
    "assert r.status_code == 200\n",
    "r.content[:100]\n",
    "soup = BeautifulSoup(r.content)"
   ]
  },
  {
   "cell_type": "code",
   "execution_count": 12,
   "metadata": {},
   "outputs": [
    {
     "data": {
      "text/plain": [
       "['https://www.agriconomie.com/mais-grain-dkc5065-dekalb-410-460/p349971',\n",
       " 'https://www.agriconomie.com/mais-mixte-demi-prcoce-elzea-320/p363802',\n",
       " 'https://www.agriconomie.com/mais-mixte-prcoce-mogana-270/p363798',\n",
       " 'https://www.agriconomie.com/mais-fourrage-trs-prcoce-barcelos-230-240/p363797',\n",
       " 'https://www.agriconomie.com/mas-fourrage-prcoce-lg-30260-limagrain-250-260/p363796',\n",
       " 'https://www.agriconomie.com/mais-dkc-4598-demi-prcoce-dekalb/p363646',\n",
       " 'https://www.agriconomie.com/mais-dkc-4391-demi-prcoce-dekalb/p363645',\n",
       " 'https://www.agriconomie.com/mais-fourrager-dkc-3697-prcoce-dekalb/p363643',\n",
       " 'https://www.agriconomie.com/mais-dkc-5182-dekalb/p363641',\n",
       " 'https://www.agriconomie.com/mais-dkc-4569-demi-prcoce-dekalb/p363639',\n",
       " 'https://www.agriconomie.com/mas-dkc-3872-demi-prcoce-dekalb/p363638',\n",
       " 'https://www.agriconomie.com/mas-demi-prcoce-san-tadeo-rh-290-300/p363599',\n",
       " 'https://www.agriconomie.com/mas-demi-prcoce-delrio-290/p363598',\n",
       " 'https://www.agriconomie.com/mas-madi-prcoce-280/p363596',\n",
       " 'https://www.agriconomie.com/mais-fourrager-dkc-3872-precoce-s1-dekalb/p363313',\n",
       " 'https://www.agriconomie.com/mais-grain-lg31276-limagrain-275-280/p349988',\n",
       " 'https://www.agriconomie.com/mais-grain-dkc4814-dekalb-420-460/p349973',\n",
       " 'https://www.agriconomie.com/mais-grain-dkc-dkc4590-dekalb-350-370/p349966',\n",
       " 'https://www.agriconomie.com/mais-grain-prcoce-lg-31-276-limagrin-275-280/p363801',\n",
       " 'https://www.agriconomie.com/mais-fourrage-venetia-bio-230-240-masseds/p350085',\n",
       " 'https://www.agriconomie.com/mais-fourrage-barula-250-260-masseds/p350084',\n",
       " 'https://www.agriconomie.com/mais-fourrage-madonias-170-180-masseds/p350083',\n",
       " 'https://www.agriconomie.com/mais-grain-mas-29-t-precoce-masseeds/p350071',\n",
       " 'https://www.agriconomie.com/mais-grain-mas-51-g-masseeds-demi-tardif/p350070',\n",
       " 'https://www.agriconomie.com/mais-mixte-mas-17-s-220-280/p350053',\n",
       " 'https://www.agriconomie.com/mais-fourrager-es-watson-euralis/p350045',\n",
       " 'https://www.agriconomie.com/mais-fourrager-havelio-kws-230/p350037',\n",
       " 'https://www.agriconomie.com/mais-grain-es-messir/p350020',\n",
       " 'https://www.agriconomie.com/mais-fourrager-kilomeris-kws-280-290/p350013',\n",
       " 'https://www.agriconomie.com/mais-grain-mas-23-g-220-280/p350011',\n",
       " 'https://www.agriconomie.com/mais-grain-portille-duo-sys-caussade-semence/p350010',\n",
       " 'https://www.agriconomie.com/mais-grain-roberi-cs-caussade-semence/p350009',\n",
       " 'https://www.agriconomie.com/mais-mixte-kws-kolossalis-230-240/p350008',\n",
       " 'https://www.agriconomie.com/mais-mixte-kamponi-cs-caussade-semence/p350007',\n",
       " 'https://www.agriconomie.com/mais-grain-es-wadi-euralis/p350006',\n",
       " 'https://www.agriconomie.com/mais-grain-rgt-metropolixx-220-230/p350005',\n",
       " 'https://www.agriconomie.com/mais-grain-barcarolle-cs-caussade-semence/p350004',\n",
       " 'https://www.agriconomie.com/mais-grain-sy-tallinn-syngenta/p350001',\n",
       " 'https://www.agriconomie.com/mais-grain-sy-premeo-syngenta/p349998',\n",
       " 'https://www.agriconomie.com/mais-grain-sy-carioca-syngenta/p349995',\n",
       " 'https://www.agriconomie.com/mais-grain-sy-triade-syngenta/p349992',\n",
       " 'https://www.agriconomie.com/mais-grain-sy-helium-syngenta/p349991',\n",
       " 'https://www.agriconomie.com/mais-grain-sy-telias-syngenta-250-270/p349986',\n",
       " 'https://www.agriconomie.com/mais-grain-es-gallery-euralis-c1/p349983',\n",
       " 'https://www.agriconomie.com/mais-grain-lbs4414-lbs-seeds-c2/p349981',\n",
       " 'https://www.agriconomie.com/mais-grain-ferarixx-ragt-semence-360/p349980',\n",
       " 'https://www.agriconomie.com/mais-fourrage-p0319-pioneer-d/p349979',\n",
       " 'https://www.agriconomie.com/mais-grain-p0725-pioneer-f/p349978']"
      ]
     },
     "execution_count": 12,
     "metadata": {},
     "output_type": "execute_result"
    }
   ],
   "source": [
    "links = soup.select('.product-teaser')\n",
    "#1st step : all links with details\n",
    "test=[f'{i}' for i in links]\n",
    "test=[i.split('<') for i in test]\n",
    "test=[i[2].split('href=') for i in test]\n",
    "test=[i[1].split('\"') for i in test]\n",
    "detail_urls=['https://www.agriconomie.com'+i[1] for i in test]\n",
    "detail_urls"
   ]
  },
  {
   "cell_type": "code",
   "execution_count": 13,
   "metadata": {},
   "outputs": [
    {
     "name": "stdout",
     "output_type": "stream",
     "text": [
      "Requirement already satisfied: tqdm in c:\\users\\u744235\\appdata\\local\\continuum\\anaconda3\\lib\\site-packages (4.32.1)\n"
     ]
    }
   ],
   "source": [
    "!pip install tqdm"
   ]
  },
  {
   "cell_type": "code",
   "execution_count": 17,
   "metadata": {},
   "outputs": [
    {
     "name": "stderr",
     "output_type": "stream",
     "text": [
      "100%|██████████████████████████████████████████| 48/48 [02:16<00:00,  2.79s/it]\n"
     ]
    }
   ],
   "source": [
    "from time import sleep\n",
    "try:\n",
    "    from tqdm import tqdm\n",
    "except:\n",
    "    tqdm = lambda x: x\n",
    "\n",
    "products = []\n",
    "\n",
    "for detail_url in tqdm(detail_urls):\n",
    "    #print(detail_url)\n",
    "    products.append(grab_detail(detail_url))\n",
    "    sleep(2)  # Wait a few secs between visits so we don't raise alerts\n",
    "    "
   ]
  },
  {
   "cell_type": "code",
   "execution_count": 18,
   "metadata": {},
   "outputs": [
    {
     "data": {
      "text/plain": [
       "[('Maïs grain DKC 5065 demi-tardif DEKALB',\n",
       "  [('141€00HT/ Dose', 'Dose 50 MG', 'Traitement : Redigo+Force'),\n",
       "   ('122€00HT/ Dose', 'Dose 50 MG', 'Traitement : Redigo'),\n",
       "   ('131€00HT/ Dose', 'Dose 50 MG', 'Traitement : Redigo+Acceleron')]),\n",
       " ('Mais mixte demi précoce - Elzea 320',\n",
       "  [('60€00HT/ Dose', 'Dose 50 MG - Base', 'Traitement : Redigo')]),\n",
       " ('Mais mixte précoce - Mogana 270',\n",
       "  [('60€00HT/ Dose', 'Dose 50 MG - Base', 'Traitement : Redigo')]),\n",
       " ('Mais mixte très précoce - Barcelos 230-240',\n",
       "  [('60€00HT/ Dose', 'Dose 50 MG - Base', 'Traitement : Redigo')]),\n",
       " ('Maïs fourrage précoce LG 30.260 HDi Limagrain 250-260',\n",
       "  [('91€00HT/ Dose', 'Dose 50 MG', 'Traitement : Redigo'),\n",
       "   ('120€00HT/ Dose', 'Dose 50 MG', 'Traitement : Redigo+Force')]),\n",
       " ('Maïs grain DKC 4598 Demi-précoce DEKALB',\n",
       "  [('140€00HT/ Dose', 'Dose 50 MG', 'Traitement : Redigo+Force'),\n",
       "   ('149€00HT/ Dose', 'Dose 50 MG', 'Traitement : Redigo+Force+Acceleron'),\n",
       "   ('121€00HT/ Dose', 'Dose 50 MG', 'Traitement : Redigo'),\n",
       "   ('130€00HT/ Dose', 'Dose 50 MG', 'Traitement : Redigo+Acceleron')]),\n",
       " ('Maïs grain DKC 4391 demi-précoce DEKALB',\n",
       "  [('140€00HT/ Dose', 'Dose 50 MG', 'Traitement : Redigo+Force+Acceleron'),\n",
       "   ('112€00HT/ Dose', 'Dose 50 MG', 'Traitement : Redigo'),\n",
       "   ('121€00HT/ Dose', 'Dose 50 MG', 'Traitement : Redigo+Acceleron'),\n",
       "   ('131€00HT/ Dose', 'Dose 50 MG', 'Traitement : Redigo+Force')]),\n",
       " ('Maïs fourrager DKC 3697 précoce - DEKALB',\n",
       "  [('82€00HT/ Dose', 'Dose 50 MG', 'Traitement : Redigo')]),\n",
       " ('Maïs grain DKC 5182 tardif - DEKALB',\n",
       "  [('142€00HT/ Dose', 'Dose 50 MG', 'Traitement : Redigo+Force'),\n",
       "   ('151€00HT/ Dose', 'Dose 50 MG', 'Traitement : Redigo+Force+Acceleron'),\n",
       "   ('123€00HT/ Dose', 'Dose 50 MG', 'Traitement : Redigo'),\n",
       "   ('132€00HT/ Dose', 'Dose 50 MG', 'Traitement : Redigo+Acceleron')]),\n",
       " ('Maïs grain DKC 4569 demi-précoce - DEKALB',\n",
       "  [('137€00HT/ Dose', 'Dose 50 MG', 'Traitement : Redigo+Force'),\n",
       "   ('118€00HT/ Dose', 'Dose 50 MG', 'Traitement : Redigo')]),\n",
       " ('Maïs grain DKC 4069 demi-précoce - DEKALB',\n",
       "  [('124€00HT/ Dose', 'Dose 50 MG', 'Traitement : Redigo+Force'),\n",
       "   ('105€00HT/ Dose', 'Dose 50 MG', 'Traitement : Redigo'),\n",
       "   ('114€00HT/ Dose', 'Dose 50 MG', 'Traitement : Redigo+Acceleron')]),\n",
       " ('Maïs fourrager demi-précoce SAN TADEO RH 290-300',\n",
       "  [('96€00HT/ Dose', 'Dose 50 MG - Base', 'Traitement : Redigo')]),\n",
       " ('Maïs mixte demi précoce DELRIO 290',\n",
       "  [('62€00HT/ Dose', 'Dose 50 MG - Base', 'Traitement : Redigo')]),\n",
       " ('Maïs mixte précoce MADI 280',\n",
       "  [('56€00HT/ Dose', 'Dose 50 MG - Base', 'Traitement : Redigo')]),\n",
       " ('Maïs fourrager DKC 3872 précoce S1 - DEKALB',\n",
       "  [('80€00HT/ Dose', 'Dose 50 MG', 'Traitement : Redigo')]),\n",
       " ('Maïs grain précoce LG31276 Limagrain 275 - 280',\n",
       "  [('121€00HT/ Dose', 'Dose 50 MG', 'Traitement : Redigo+Force'),\n",
       "   ('102€00HT/ Dose', 'Dose 50 MG', 'Traitement : Redigo')]),\n",
       " ('Maïs grain DKC 4814 demi-tardif - DEKALB',\n",
       "  [('120€00HT/ Dose', 'Dose 50 MG', 'Traitement : Redigo'),\n",
       "   ('129€00HT/ Dose', 'Dose 50 MG', 'Traitement : Redigo+Acceleron'),\n",
       "   ('139€00HT/ Dose', 'Dose 50 MG', 'Traitement : Redigo+Force')]),\n",
       " ('Maïs grain DKC 4590 demi-précoce - DEKALB',\n",
       "  [('117€00HT/ Dose', 'Dose 50 MG', 'Traitement : Redigo'),\n",
       "   ('136€00HT/ Dose', 'Dose 50 MG', 'Traitement : Redigo+Force')]),\n",
       " ('Maïs grain précoce LG 31.276 Limagrin 275-280', []),\n",
       " ('Maïs fourrage VENETIA BIO 230 - 240 MASSEDS', []),\n",
       " ('Maïs fourrage BARULA 250 - 260 MASSEDS', []),\n",
       " ('Maïs fourrage MADONIAS 170 - 180 MASSEDS', []),\n",
       " ('Maïs grain MAS 29.T précoce Masseeds', []),\n",
       " ('Maïs grain MAS 51.G Masseeds demi tardif', []),\n",
       " ('Maïs mixte MAS 17 S 240 - 250', []),\n",
       " ('Maïs fourrager ES WATSON EURALIS', []),\n",
       " ('Maïs fourrager HAVELIO KWS 230', []),\n",
       " ('Maïs grain ES MESSIR 470 - 550', []),\n",
       " ('Maïs fourrager KILOMERIS KWS 280 - 290', []),\n",
       " ('Maïs grain MAS 23.G 260 - 280', []),\n",
       " ('Maïs grain PORTILLE DUO SYS Caussade Semence', []),\n",
       " ('Maïs grain ROBERI CS Caussade Semence', []),\n",
       " ('Maïs mixte KWS KOLOSSALIS 230 - 240', []),\n",
       " ('Maïs mixte KAMPONI CS Caussade Semence', []),\n",
       " ('Maïs grain ES WADI Euralis', []),\n",
       " ('Maïs grain RGT METROPOLIXX 220 - 230', []),\n",
       " ('Maïs grain BARCAROLLE CS Caussade Semence', []),\n",
       " ('Maïs grain SY TALLINN Syngenta', []),\n",
       " ('Maïs grain SY PREMEO Syngenta', []),\n",
       " ('Maïs grain SY CARIOCA Syngenta', []),\n",
       " ('Maïs grain SY TRIADE Syngenta', []),\n",
       " ('Maïs grain SY HELIUM Syngenta', []),\n",
       " ('Maïs grain SY TELIAS Syngenta 250 - 270', []),\n",
       " ('Maïs grain ES GALLERY Euralis C1', []),\n",
       " ('Maïs grain LBS4414 LBS Seeds C2', []),\n",
       " ('Maïs grain FERARIXX RAGT Semence 360', []),\n",
       " ('Maïs fourrage P0319 Pioneer D', []),\n",
       " ('Maïs grain P0725 Pioneer F', [])]"
      ]
     },
     "execution_count": 18,
     "metadata": {},
     "output_type": "execute_result"
    }
   ],
   "source": [
    "products"
   ]
  },
  {
   "cell_type": "code",
   "execution_count": 41,
   "metadata": {},
   "outputs": [
    {
     "name": "stdout",
     "output_type": "stream",
     "text": [
      "4\n"
     ]
    },
    {
     "data": {
      "text/plain": [
       "[{'name': 'Maïs grain DKC 5065 demi-tardif DEKALB',\n",
       "  'offer_1_price': '141€00HT',\n",
       "  'offer_1_unit': 'Dose',\n",
       "  'offer_1_packaging': 'Dose 50 MG',\n",
       "  'offer_1_treatment': 'Traitement : Redigo+Force',\n",
       "  'offer_2_price': '122€00HT',\n",
       "  'offer_2_unit': 'Dose',\n",
       "  'offer_2_packaging': 'Dose 50 MG',\n",
       "  'offer_2_treatment': 'Traitement : Redigo',\n",
       "  'offer_3_price': '131€00HT',\n",
       "  'offer_3_unit': 'Dose',\n",
       "  'offer_3_packaging': 'Dose 50 MG',\n",
       "  'offer_3_treatment': 'Traitement : Redigo+Acceleron'},\n",
       " {'name': 'Mais mixte demi précoce - Elzea 320',\n",
       "  'offer_1_price': '60€00HT',\n",
       "  'offer_1_unit': 'Dose',\n",
       "  'offer_1_packaging': 'Dose 50 MG - Base',\n",
       "  'offer_1_treatment': 'Traitement : Redigo'},\n",
       " {'name': 'Mais mixte précoce - Mogana 270',\n",
       "  'offer_1_price': '60€00HT',\n",
       "  'offer_1_unit': 'Dose',\n",
       "  'offer_1_packaging': 'Dose 50 MG - Base',\n",
       "  'offer_1_treatment': 'Traitement : Redigo'},\n",
       " {'name': 'Mais mixte très précoce - Barcelos 230-240',\n",
       "  'offer_1_price': '60€00HT',\n",
       "  'offer_1_unit': 'Dose',\n",
       "  'offer_1_packaging': 'Dose 50 MG - Base',\n",
       "  'offer_1_treatment': 'Traitement : Redigo'},\n",
       " {'name': 'Maïs fourrage précoce LG 30.260 HDi Limagrain 250-260',\n",
       "  'offer_1_price': '91€00HT',\n",
       "  'offer_1_unit': 'Dose',\n",
       "  'offer_1_packaging': 'Dose 50 MG',\n",
       "  'offer_1_treatment': 'Traitement : Redigo',\n",
       "  'offer_2_price': '120€00HT',\n",
       "  'offer_2_unit': 'Dose',\n",
       "  'offer_2_packaging': 'Dose 50 MG',\n",
       "  'offer_2_treatment': 'Traitement : Redigo+Force'},\n",
       " {'name': 'Maïs grain DKC 4598 Demi-précoce DEKALB',\n",
       "  'offer_1_price': '140€00HT',\n",
       "  'offer_1_unit': 'Dose',\n",
       "  'offer_1_packaging': 'Dose 50 MG',\n",
       "  'offer_1_treatment': 'Traitement : Redigo+Force',\n",
       "  'offer_2_price': '149€00HT',\n",
       "  'offer_2_unit': 'Dose',\n",
       "  'offer_2_packaging': 'Dose 50 MG',\n",
       "  'offer_2_treatment': 'Traitement : Redigo+Force+Acceleron',\n",
       "  'offer_3_price': '121€00HT',\n",
       "  'offer_3_unit': 'Dose',\n",
       "  'offer_3_packaging': 'Dose 50 MG',\n",
       "  'offer_3_treatment': 'Traitement : Redigo',\n",
       "  'offer_4_price': '130€00HT',\n",
       "  'offer_4_unit': 'Dose',\n",
       "  'offer_4_packaging': 'Dose 50 MG',\n",
       "  'offer_4_treatment': 'Traitement : Redigo+Acceleron'},\n",
       " {'name': 'Maïs grain DKC 4391 demi-précoce DEKALB',\n",
       "  'offer_1_price': '140€00HT',\n",
       "  'offer_1_unit': 'Dose',\n",
       "  'offer_1_packaging': 'Dose 50 MG',\n",
       "  'offer_1_treatment': 'Traitement : Redigo+Force+Acceleron',\n",
       "  'offer_2_price': '112€00HT',\n",
       "  'offer_2_unit': 'Dose',\n",
       "  'offer_2_packaging': 'Dose 50 MG',\n",
       "  'offer_2_treatment': 'Traitement : Redigo',\n",
       "  'offer_3_price': '121€00HT',\n",
       "  'offer_3_unit': 'Dose',\n",
       "  'offer_3_packaging': 'Dose 50 MG',\n",
       "  'offer_3_treatment': 'Traitement : Redigo+Acceleron',\n",
       "  'offer_4_price': '131€00HT',\n",
       "  'offer_4_unit': 'Dose',\n",
       "  'offer_4_packaging': 'Dose 50 MG',\n",
       "  'offer_4_treatment': 'Traitement : Redigo+Force'},\n",
       " {'name': 'Maïs fourrager DKC 3697 précoce - DEKALB',\n",
       "  'offer_1_price': '82€00HT',\n",
       "  'offer_1_unit': 'Dose',\n",
       "  'offer_1_packaging': 'Dose 50 MG',\n",
       "  'offer_1_treatment': 'Traitement : Redigo'},\n",
       " {'name': 'Maïs grain DKC 5182 tardif - DEKALB',\n",
       "  'offer_1_price': '142€00HT',\n",
       "  'offer_1_unit': 'Dose',\n",
       "  'offer_1_packaging': 'Dose 50 MG',\n",
       "  'offer_1_treatment': 'Traitement : Redigo+Force',\n",
       "  'offer_2_price': '151€00HT',\n",
       "  'offer_2_unit': 'Dose',\n",
       "  'offer_2_packaging': 'Dose 50 MG',\n",
       "  'offer_2_treatment': 'Traitement : Redigo+Force+Acceleron',\n",
       "  'offer_3_price': '123€00HT',\n",
       "  'offer_3_unit': 'Dose',\n",
       "  'offer_3_packaging': 'Dose 50 MG',\n",
       "  'offer_3_treatment': 'Traitement : Redigo',\n",
       "  'offer_4_price': '132€00HT',\n",
       "  'offer_4_unit': 'Dose',\n",
       "  'offer_4_packaging': 'Dose 50 MG',\n",
       "  'offer_4_treatment': 'Traitement : Redigo+Acceleron'},\n",
       " {'name': 'Maïs grain DKC 4569 demi-précoce - DEKALB',\n",
       "  'offer_1_price': '137€00HT',\n",
       "  'offer_1_unit': 'Dose',\n",
       "  'offer_1_packaging': 'Dose 50 MG',\n",
       "  'offer_1_treatment': 'Traitement : Redigo+Force',\n",
       "  'offer_2_price': '118€00HT',\n",
       "  'offer_2_unit': 'Dose',\n",
       "  'offer_2_packaging': 'Dose 50 MG',\n",
       "  'offer_2_treatment': 'Traitement : Redigo'},\n",
       " {'name': 'Maïs grain DKC 4069 demi-précoce - DEKALB',\n",
       "  'offer_1_price': '124€00HT',\n",
       "  'offer_1_unit': 'Dose',\n",
       "  'offer_1_packaging': 'Dose 50 MG',\n",
       "  'offer_1_treatment': 'Traitement : Redigo+Force',\n",
       "  'offer_2_price': '105€00HT',\n",
       "  'offer_2_unit': 'Dose',\n",
       "  'offer_2_packaging': 'Dose 50 MG',\n",
       "  'offer_2_treatment': 'Traitement : Redigo',\n",
       "  'offer_3_price': '114€00HT',\n",
       "  'offer_3_unit': 'Dose',\n",
       "  'offer_3_packaging': 'Dose 50 MG',\n",
       "  'offer_3_treatment': 'Traitement : Redigo+Acceleron'},\n",
       " {'name': 'Maïs fourrager demi-précoce SAN TADEO RH 290-300',\n",
       "  'offer_1_price': '96€00HT',\n",
       "  'offer_1_unit': 'Dose',\n",
       "  'offer_1_packaging': 'Dose 50 MG - Base',\n",
       "  'offer_1_treatment': 'Traitement : Redigo'},\n",
       " {'name': 'Maïs mixte demi précoce DELRIO 290',\n",
       "  'offer_1_price': '62€00HT',\n",
       "  'offer_1_unit': 'Dose',\n",
       "  'offer_1_packaging': 'Dose 50 MG - Base',\n",
       "  'offer_1_treatment': 'Traitement : Redigo'},\n",
       " {'name': 'Maïs mixte précoce MADI 280',\n",
       "  'offer_1_price': '56€00HT',\n",
       "  'offer_1_unit': 'Dose',\n",
       "  'offer_1_packaging': 'Dose 50 MG - Base',\n",
       "  'offer_1_treatment': 'Traitement : Redigo'},\n",
       " {'name': 'Maïs fourrager DKC 3872 précoce S1 - DEKALB',\n",
       "  'offer_1_price': '80€00HT',\n",
       "  'offer_1_unit': 'Dose',\n",
       "  'offer_1_packaging': 'Dose 50 MG',\n",
       "  'offer_1_treatment': 'Traitement : Redigo'},\n",
       " {'name': 'Maïs grain précoce LG31276 Limagrain 275 - 280',\n",
       "  'offer_1_price': '121€00HT',\n",
       "  'offer_1_unit': 'Dose',\n",
       "  'offer_1_packaging': 'Dose 50 MG',\n",
       "  'offer_1_treatment': 'Traitement : Redigo+Force',\n",
       "  'offer_2_price': '102€00HT',\n",
       "  'offer_2_unit': 'Dose',\n",
       "  'offer_2_packaging': 'Dose 50 MG',\n",
       "  'offer_2_treatment': 'Traitement : Redigo'},\n",
       " {'name': 'Maïs grain DKC 4814 demi-tardif - DEKALB',\n",
       "  'offer_1_price': '120€00HT',\n",
       "  'offer_1_unit': 'Dose',\n",
       "  'offer_1_packaging': 'Dose 50 MG',\n",
       "  'offer_1_treatment': 'Traitement : Redigo',\n",
       "  'offer_2_price': '129€00HT',\n",
       "  'offer_2_unit': 'Dose',\n",
       "  'offer_2_packaging': 'Dose 50 MG',\n",
       "  'offer_2_treatment': 'Traitement : Redigo+Acceleron',\n",
       "  'offer_3_price': '139€00HT',\n",
       "  'offer_3_unit': 'Dose',\n",
       "  'offer_3_packaging': 'Dose 50 MG',\n",
       "  'offer_3_treatment': 'Traitement : Redigo+Force'},\n",
       " {'name': 'Maïs grain DKC 4590 demi-précoce - DEKALB',\n",
       "  'offer_1_price': '117€00HT',\n",
       "  'offer_1_unit': 'Dose',\n",
       "  'offer_1_packaging': 'Dose 50 MG',\n",
       "  'offer_1_treatment': 'Traitement : Redigo',\n",
       "  'offer_2_price': '136€00HT',\n",
       "  'offer_2_unit': 'Dose',\n",
       "  'offer_2_packaging': 'Dose 50 MG',\n",
       "  'offer_2_treatment': 'Traitement : Redigo+Force'},\n",
       " {'name': 'Maïs grain précoce LG 31.276 Limagrin 275-280'},\n",
       " {'name': 'Maïs fourrage VENETIA BIO 230 - 240 MASSEDS'},\n",
       " {'name': 'Maïs fourrage BARULA 250 - 260 MASSEDS'},\n",
       " {'name': 'Maïs fourrage MADONIAS 170 - 180 MASSEDS'},\n",
       " {'name': 'Maïs grain MAS 29.T précoce Masseeds'},\n",
       " {'name': 'Maïs grain MAS 51.G Masseeds demi tardif'},\n",
       " {'name': 'Maïs mixte MAS 17 S 240 - 250'},\n",
       " {'name': 'Maïs fourrager ES WATSON EURALIS'},\n",
       " {'name': 'Maïs fourrager HAVELIO KWS 230'},\n",
       " {'name': 'Maïs grain ES MESSIR 470 - 550'},\n",
       " {'name': 'Maïs fourrager KILOMERIS KWS 280 - 290'},\n",
       " {'name': 'Maïs grain MAS 23.G 260 - 280'},\n",
       " {'name': 'Maïs grain PORTILLE DUO SYS Caussade Semence'},\n",
       " {'name': 'Maïs grain ROBERI CS Caussade Semence'},\n",
       " {'name': 'Maïs mixte KWS KOLOSSALIS 230 - 240'},\n",
       " {'name': 'Maïs mixte KAMPONI CS Caussade Semence'},\n",
       " {'name': 'Maïs grain ES WADI Euralis'},\n",
       " {'name': 'Maïs grain RGT METROPOLIXX 220 - 230'},\n",
       " {'name': 'Maïs grain BARCAROLLE CS Caussade Semence'},\n",
       " {'name': 'Maïs grain SY TALLINN Syngenta'},\n",
       " {'name': 'Maïs grain SY PREMEO Syngenta'},\n",
       " {'name': 'Maïs grain SY CARIOCA Syngenta'},\n",
       " {'name': 'Maïs grain SY TRIADE Syngenta'},\n",
       " {'name': 'Maïs grain SY HELIUM Syngenta'},\n",
       " {'name': 'Maïs grain SY TELIAS Syngenta 250 - 270'},\n",
       " {'name': 'Maïs grain ES GALLERY Euralis C1'},\n",
       " {'name': 'Maïs grain LBS4414 LBS Seeds C2'},\n",
       " {'name': 'Maïs grain FERARIXX RAGT Semence 360'},\n",
       " {'name': 'Maïs fourrage P0319 Pioneer D'},\n",
       " {'name': 'Maïs grain P0725 Pioneer F'}]"
      ]
     },
     "execution_count": 41,
     "metadata": {},
     "output_type": "execute_result"
    }
   ],
   "source": [
    "products_as_dict = []\n",
    "\n",
    "max_offers = max([len(o) for n, o in products])\n",
    "print(max_offers)\n",
    "\n",
    "for p in products:\n",
    "    name, offers = p\n",
    "    \n",
    "    dp = {'name': name}\n",
    "    \n",
    "    for ix, offer in enumerate(offers):\n",
    "        price, packaging, treatment = offer\n",
    "        price, unit = price.split(\"/\")\n",
    "        dp[f'offer_{ix+1}_price'] = price.strip()\n",
    "        dp[f'offer_{ix+1}_unit'] = unit.strip()\n",
    "        dp[f'offer_{ix+1}_packaging'] = packaging\n",
    "        dp[f'offer_{ix+1}_treatment'] = treatment\n",
    "    \n",
    "    products_as_dict.append(dp)\n",
    "products_as_dict"
   ]
  },
  {
   "cell_type": "code",
   "execution_count": 42,
   "metadata": {},
   "outputs": [
    {
     "data": {
      "text/html": [
       "<div>\n",
       "<style scoped>\n",
       "    .dataframe tbody tr th:only-of-type {\n",
       "        vertical-align: middle;\n",
       "    }\n",
       "\n",
       "    .dataframe tbody tr th {\n",
       "        vertical-align: top;\n",
       "    }\n",
       "\n",
       "    .dataframe thead th {\n",
       "        text-align: right;\n",
       "    }\n",
       "</style>\n",
       "<table border=\"1\" class=\"dataframe\">\n",
       "  <thead>\n",
       "    <tr style=\"text-align: right;\">\n",
       "      <th></th>\n",
       "      <th>name</th>\n",
       "      <th>offer_1_packaging</th>\n",
       "      <th>offer_1_price</th>\n",
       "      <th>offer_1_treatment</th>\n",
       "      <th>offer_1_unit</th>\n",
       "      <th>offer_2_packaging</th>\n",
       "      <th>offer_2_price</th>\n",
       "      <th>offer_2_treatment</th>\n",
       "      <th>offer_2_unit</th>\n",
       "      <th>offer_3_packaging</th>\n",
       "      <th>offer_3_price</th>\n",
       "      <th>offer_3_treatment</th>\n",
       "      <th>offer_3_unit</th>\n",
       "      <th>offer_4_packaging</th>\n",
       "      <th>offer_4_price</th>\n",
       "      <th>offer_4_treatment</th>\n",
       "      <th>offer_4_unit</th>\n",
       "    </tr>\n",
       "  </thead>\n",
       "  <tbody>\n",
       "    <tr>\n",
       "      <th>0</th>\n",
       "      <td>Maïs grain DKC 5065 demi-tardif DEKALB</td>\n",
       "      <td>Dose 50 MG</td>\n",
       "      <td>141€00HT</td>\n",
       "      <td>Traitement : Redigo+Force</td>\n",
       "      <td>Dose</td>\n",
       "      <td>Dose 50 MG</td>\n",
       "      <td>122€00HT</td>\n",
       "      <td>Traitement : Redigo</td>\n",
       "      <td>Dose</td>\n",
       "      <td>Dose 50 MG</td>\n",
       "      <td>131€00HT</td>\n",
       "      <td>Traitement : Redigo+Acceleron</td>\n",
       "      <td>Dose</td>\n",
       "      <td>NaN</td>\n",
       "      <td>NaN</td>\n",
       "      <td>NaN</td>\n",
       "      <td>NaN</td>\n",
       "    </tr>\n",
       "    <tr>\n",
       "      <th>1</th>\n",
       "      <td>Mais mixte demi précoce - Elzea 320</td>\n",
       "      <td>Dose 50 MG - Base</td>\n",
       "      <td>60€00HT</td>\n",
       "      <td>Traitement : Redigo</td>\n",
       "      <td>Dose</td>\n",
       "      <td>NaN</td>\n",
       "      <td>NaN</td>\n",
       "      <td>NaN</td>\n",
       "      <td>NaN</td>\n",
       "      <td>NaN</td>\n",
       "      <td>NaN</td>\n",
       "      <td>NaN</td>\n",
       "      <td>NaN</td>\n",
       "      <td>NaN</td>\n",
       "      <td>NaN</td>\n",
       "      <td>NaN</td>\n",
       "      <td>NaN</td>\n",
       "    </tr>\n",
       "    <tr>\n",
       "      <th>2</th>\n",
       "      <td>Mais mixte précoce - Mogana 270</td>\n",
       "      <td>Dose 50 MG - Base</td>\n",
       "      <td>60€00HT</td>\n",
       "      <td>Traitement : Redigo</td>\n",
       "      <td>Dose</td>\n",
       "      <td>NaN</td>\n",
       "      <td>NaN</td>\n",
       "      <td>NaN</td>\n",
       "      <td>NaN</td>\n",
       "      <td>NaN</td>\n",
       "      <td>NaN</td>\n",
       "      <td>NaN</td>\n",
       "      <td>NaN</td>\n",
       "      <td>NaN</td>\n",
       "      <td>NaN</td>\n",
       "      <td>NaN</td>\n",
       "      <td>NaN</td>\n",
       "    </tr>\n",
       "    <tr>\n",
       "      <th>3</th>\n",
       "      <td>Mais mixte très précoce - Barcelos 230-240</td>\n",
       "      <td>Dose 50 MG - Base</td>\n",
       "      <td>60€00HT</td>\n",
       "      <td>Traitement : Redigo</td>\n",
       "      <td>Dose</td>\n",
       "      <td>NaN</td>\n",
       "      <td>NaN</td>\n",
       "      <td>NaN</td>\n",
       "      <td>NaN</td>\n",
       "      <td>NaN</td>\n",
       "      <td>NaN</td>\n",
       "      <td>NaN</td>\n",
       "      <td>NaN</td>\n",
       "      <td>NaN</td>\n",
       "      <td>NaN</td>\n",
       "      <td>NaN</td>\n",
       "      <td>NaN</td>\n",
       "    </tr>\n",
       "    <tr>\n",
       "      <th>4</th>\n",
       "      <td>Maïs fourrage précoce LG 30.260 HDi Limagrain ...</td>\n",
       "      <td>Dose 50 MG</td>\n",
       "      <td>91€00HT</td>\n",
       "      <td>Traitement : Redigo</td>\n",
       "      <td>Dose</td>\n",
       "      <td>Dose 50 MG</td>\n",
       "      <td>120€00HT</td>\n",
       "      <td>Traitement : Redigo+Force</td>\n",
       "      <td>Dose</td>\n",
       "      <td>NaN</td>\n",
       "      <td>NaN</td>\n",
       "      <td>NaN</td>\n",
       "      <td>NaN</td>\n",
       "      <td>NaN</td>\n",
       "      <td>NaN</td>\n",
       "      <td>NaN</td>\n",
       "      <td>NaN</td>\n",
       "    </tr>\n",
       "  </tbody>\n",
       "</table>\n",
       "</div>"
      ],
      "text/plain": [
       "                                                name  offer_1_packaging  \\\n",
       "0             Maïs grain DKC 5065 demi-tardif DEKALB         Dose 50 MG   \n",
       "1                Mais mixte demi précoce - Elzea 320  Dose 50 MG - Base   \n",
       "2                    Mais mixte précoce - Mogana 270  Dose 50 MG - Base   \n",
       "3         Mais mixte très précoce - Barcelos 230-240  Dose 50 MG - Base   \n",
       "4  Maïs fourrage précoce LG 30.260 HDi Limagrain ...         Dose 50 MG   \n",
       "\n",
       "  offer_1_price          offer_1_treatment offer_1_unit offer_2_packaging  \\\n",
       "0      141€00HT  Traitement : Redigo+Force         Dose        Dose 50 MG   \n",
       "1       60€00HT        Traitement : Redigo         Dose               NaN   \n",
       "2       60€00HT        Traitement : Redigo         Dose               NaN   \n",
       "3       60€00HT        Traitement : Redigo         Dose               NaN   \n",
       "4       91€00HT        Traitement : Redigo         Dose        Dose 50 MG   \n",
       "\n",
       "  offer_2_price          offer_2_treatment offer_2_unit offer_3_packaging  \\\n",
       "0      122€00HT        Traitement : Redigo         Dose        Dose 50 MG   \n",
       "1           NaN                        NaN          NaN               NaN   \n",
       "2           NaN                        NaN          NaN               NaN   \n",
       "3           NaN                        NaN          NaN               NaN   \n",
       "4      120€00HT  Traitement : Redigo+Force         Dose               NaN   \n",
       "\n",
       "  offer_3_price              offer_3_treatment offer_3_unit offer_4_packaging  \\\n",
       "0      131€00HT  Traitement : Redigo+Acceleron         Dose               NaN   \n",
       "1           NaN                            NaN          NaN               NaN   \n",
       "2           NaN                            NaN          NaN               NaN   \n",
       "3           NaN                            NaN          NaN               NaN   \n",
       "4           NaN                            NaN          NaN               NaN   \n",
       "\n",
       "  offer_4_price offer_4_treatment offer_4_unit  \n",
       "0           NaN               NaN          NaN  \n",
       "1           NaN               NaN          NaN  \n",
       "2           NaN               NaN          NaN  \n",
       "3           NaN               NaN          NaN  \n",
       "4           NaN               NaN          NaN  "
      ]
     },
     "execution_count": 42,
     "metadata": {},
     "output_type": "execute_result"
    }
   ],
   "source": [
    "df_products = pd.DataFrame.from_records(products_as_dict)\n",
    "df_products.head()"
   ]
  },
  {
   "cell_type": "code",
   "execution_count": 43,
   "metadata": {},
   "outputs": [],
   "source": [
    "df_products.to_pickle('webscrap_data_mais.pkl')"
   ]
  },
  {
   "cell_type": "code",
   "execution_count": null,
   "metadata": {},
   "outputs": [],
   "source": []
  }
 ],
 "metadata": {
  "kernelspec": {
   "display_name": "Python 3",
   "language": "python",
   "name": "python3"
  },
  "language_info": {
   "codemirror_mode": {
    "name": "ipython",
    "version": 3
   },
   "file_extension": ".py",
   "mimetype": "text/x-python",
   "name": "python",
   "nbconvert_exporter": "python",
   "pygments_lexer": "ipython3",
   "version": "3.7.3"
  }
 },
 "nbformat": 4,
 "nbformat_minor": 2
}
